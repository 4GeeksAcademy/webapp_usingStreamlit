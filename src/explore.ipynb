{
    "cells": [
        {
            "cell_type": "markdown",
            "metadata": {},
            "source": [
                "# Explore here"
            ]
        },
        {
            "cell_type": "code",
            "execution_count": 2,
            "metadata": {},
            "outputs": [
                {
                    "name": "stdout",
                    "output_type": "stream",
                    "text": [
                        "0    Action Adventure Fantasy ScienceFiction cultur...\n",
                        "1    Adventure Fantasy Action ocean drugabuse exoti...\n",
                        "2    Action Adventure Crime spy basedonnovel secret...\n",
                        "3    Action Crime Drama Thriller dccomics crimefigh...\n",
                        "4    Action Adventure ScienceFiction basedonnovel m...\n",
                        "Name: tags, dtype: object\n",
                        "0\n",
                        "count    4809.000000\n",
                        "mean      443.680183\n",
                        "std       177.857596\n",
                        "min        11.000000\n",
                        "25%       309.000000\n",
                        "50%       428.000000\n",
                        "75%       545.000000\n",
                        "max      1468.000000\n",
                        "Name: tags, dtype: float64\n",
                        "tags\n",
                        "<class 'str'>    4809\n",
                        "Name: count, dtype: int64\n",
                        "['000' '007' '10' '100' '11' '12' '13' '14' '15' '16']\n",
                        "(4809, 5000)\n"
                    ]
                },
                {
                    "data": {
                        "text/plain": [
                            "['/workspaces/webapp_usingStreamlit/models/tfidf_vectorizer.sav']"
                        ]
                    },
                    "execution_count": 2,
                    "metadata": {},
                    "output_type": "execute_result"
                }
            ],
            "source": [
                "import pandas as pd\n",
                "from sklearn.feature_extraction.text import TfidfVectorizer\n",
                "from sklearn.neighbors import NearestNeighbors\n",
                "import joblib\n",
                "\n",
                "# Cargar el DataFrame\n",
                "df_done = pd.read_pickle('df_done.pkl')\n",
                "\n",
                "# Verificar y convertir las columnas a listas si no lo son\n",
                "columns_to_check = ['genres', 'keywords', 'cast', 'crew']\n",
                "for col in columns_to_check:\n",
                "    if not all(isinstance(x, list) for x in df_done[col]):\n",
                "        df_done[col] = df_done[col].apply(lambda x: x if isinstance(x, list) else [])\n",
                "\n",
                "# Combinar las columnas en una sola columna llamada 'tags'\n",
                "df_done['tags'] = df_done['genres'] + df_done['keywords'] + df_done['cast'] + df_done['crew']\n",
                "\n",
                "# Asegurarse de que 'overview' sea una lista de palabras\n",
                "df_done['overview'] = df_done['overview'].apply(lambda x: x if isinstance(x, list) else [])\n",
                "\n",
                "# Concatenar todas las listas en una sola lista\n",
                "df_done['tags'] = df_done['tags'] + df_done['overview']\n",
                "\n",
                "# Convertir la lista de tags en una cadena de texto separada por espacios\n",
                "df_done['tags'] = df_done['tags'].apply(lambda x: ' '.join(x) if isinstance(x, list) else '')\n",
                "\n",
                "# Verificar la columna 'tags' después de la combinación\n",
                "print(df_done['tags'].head())\n",
                "\n",
                "# Verificar si hay valores nulos o vacíos en la columna 'tags'\n",
                "print(df_done['tags'].isnull().sum())\n",
                "print(df_done['tags'].str.len().describe())\n",
                "\n",
                "# Verificar el tipo de datos en la columna 'tags'\n",
                "print(df_done['tags'].apply(type).value_counts())\n",
                "\n",
                "# Configurar el TfidfVectorizer\n",
                "vectorizer = TfidfVectorizer(stop_words=None, max_df=0.95, min_df=2, max_features=5000)\n",
                "\n",
                "# Vectorizar los datos\n",
                "X = vectorizer.fit_transform(df_done['tags'])\n",
                "\n",
                "# Verificar el vocabulario\n",
                "print(vectorizer.get_feature_names_out()[:10])  # Verificar las primeras 10 palabras en el vocabulario\n",
                "\n",
                "# Verificar la forma de la matriz X\n",
                "print(X.shape)\n",
                "\n",
                "# Entrenar el modelo\n",
                "modelo = NearestNeighbors(metric='cosine', algorithm='brute')\n",
                "modelo.fit(X)\n",
                "\n",
                "# Guardar el modelo y el vectorizador\n",
                "joblib.dump(modelo, '/workspaces/webapp_usingStreamlit/models/knn_neighbors-6_algorithm-brute_metric-cosine.sav')\n",
                "joblib.dump(vectorizer, '/workspaces/webapp_usingStreamlit/models/tfidf_vectorizer.sav')"
            ]
        },
        {
            "cell_type": "code",
            "execution_count": 3,
            "metadata": {},
            "outputs": [
                {
                    "name": "stdout",
                    "output_type": "stream",
                    "text": [
                        "['000' '007' '10' '100' '11' '12' '13' '14' '15' '16']\n",
                        "(4809, 5000)\n"
                    ]
                }
            ],
            "source": [
                "# Cargar el vectorizador\n",
                "vectorizer = joblib.load('/workspaces/webapp_usingStreamlit/models/tfidf_vectorizer.sav')\n",
                "\n",
                "# Verificar el vocabulario\n",
                "print(vectorizer.get_feature_names_out()[:10])  # Verificar las primeras 10 palabras en el vocabulario\n",
                "\n",
                "# Verificar la forma de la matriz X\n",
                "X = vectorizer.transform(df_done['tags'])\n",
                "print(X.shape)"
            ]
        }
    ],
    "metadata": {
        "kernelspec": {
            "display_name": "Python 3",
            "language": "python",
            "name": "python3"
        },
        "language_info": {
            "codemirror_mode": {
                "name": "ipython",
                "version": 3
            },
            "file_extension": ".py",
            "mimetype": "text/x-python",
            "name": "python",
            "nbconvert_exporter": "python",
            "pygments_lexer": "ipython3",
            "version": "3.11.4"
        },
        "orig_nbformat": 4
    },
    "nbformat": 4,
    "nbformat_minor": 2
}
